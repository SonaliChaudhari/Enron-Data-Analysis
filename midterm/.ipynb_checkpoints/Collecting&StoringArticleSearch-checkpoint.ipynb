{
 "cells": [
  {
   "cell_type": "code",
   "execution_count": 1,
   "metadata": {
    "collapsed": false
   },
   "outputs": [],
   "source": [
    "import os\n",
    "import requests\n",
    "from pprint import pprint\n",
    "import json\n",
    "from datetime import datetime\n",
    "import glob"
   ]
  },
  {
   "cell_type": "code",
   "execution_count": 2,
   "metadata": {
    "collapsed": false
   },
   "outputs": [
    {
     "name": "stdout",
     "output_type": "stream",
     "text": [
      "/Users/sonalichaudhari/Desktop\n",
      "/Users/sonalichaudhari/Desktop/midterm/data/NYT_data\n"
     ]
    }
   ],
   "source": [
    "cur_path = os.path.dirname(os.getcwd())\n",
    "print(cur_path)\n",
    "path = cur_path + '/midterm/data/NYT_data'\n",
    "print (path)"
   ]
  },
  {
   "cell_type": "code",
   "execution_count": null,
   "metadata": {
    "collapsed": false
   },
   "outputs": [],
   "source": [
    "key1 = os.environ.get('APIKEY')\n",
    "url = \"https://api.nytimes.com/svc/search/v2/articlesearch.json?q=new+york+times&sort=newest&api-key=\"+(key1)+\"&begin_date=20161201&end_date=20161231\""
   ]
  },
  {
   "cell_type": "code",
   "execution_count": null,
   "metadata": {
    "collapsed": false
   },
   "outputs": [],
   "source": [
    "i = 0\n",
    "response_data = []\n",
    "for i in range(200):\n",
    "    try:\n",
    "        response_data.append(requests.get(url).json())\n",
    "        i += 1\n",
    "    except ValueError:\n",
    "        continue\n"
   ]
  },
  {
   "cell_type": "code",
   "execution_count": null,
   "metadata": {
    "collapsed": true
   },
   "outputs": [],
   "source": []
  },
  {
   "cell_type": "code",
   "execution_count": null,
   "metadata": {
    "collapsed": false
   },
   "outputs": [],
   "source": [
    "print(len(response_data))"
   ]
  },
  {
   "cell_type": "code",
   "execution_count": null,
   "metadata": {
    "collapsed": true
   },
   "outputs": [],
   "source": []
  },
  {
   "cell_type": "code",
   "execution_count": null,
   "metadata": {
    "collapsed": false
   },
   "outputs": [],
   "source": [
    "articles_path = path + '/article_search/'\n",
    "for json_file in response_data:\n",
    "    with open(articles_path + 'article_search_'+ str(datetime.now()) +'.json', 'w') as outfile:\n",
    "        json.dump(json_file, outfile)"
   ]
  },
  {
   "cell_type": "code",
   "execution_count": null,
   "metadata": {
    "collapsed": true
   },
   "outputs": [],
   "source": []
  },
  {
   "cell_type": "code",
   "execution_count": null,
   "metadata": {
    "collapsed": true
   },
   "outputs": [],
   "source": [
    "import glob\n",
    "json_file_path = articles_path +'/*'\n",
    "lambda_file = lambda json_file_path : glob.glob(json_file_path)"
   ]
  },
  {
   "cell_type": "code",
   "execution_count": null,
   "metadata": {
    "collapsed": false
   },
   "outputs": [],
   "source": [
    "article_search_dict = {}\n",
    "for json_file in lambda_file(json_file_path):\n",
    "    with open(json_file) as json_data:\n",
    "        article_search_dict.update(json.load(json_data))\n",
    "    pprint(article_search_dict)\n"
   ]
  }
 ],
 "metadata": {
  "anaconda-cloud": {},
  "kernelspec": {
   "display_name": "Python [conda root]",
   "language": "python",
   "name": "conda-root-py"
  },
  "language_info": {
   "codemirror_mode": {
    "name": "ipython",
    "version": 3
   },
   "file_extension": ".py",
   "mimetype": "text/x-python",
   "name": "python",
   "nbconvert_exporter": "python",
   "pygments_lexer": "ipython3",
   "version": "3.5.2"
  }
 },
 "nbformat": 4,
 "nbformat_minor": 1
}
