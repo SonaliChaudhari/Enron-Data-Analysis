{
 "cells": [
  {
   "cell_type": "markdown",
   "metadata": {},
   "source": [
    "# QUESTION 2 - ANALYSIS 3"
   ]
  },
  {
   "cell_type": "markdown",
   "metadata": {},
   "source": [
    "## All Required Imports"
   ]
  },
  {
   "cell_type": "code",
   "execution_count": 1,
   "metadata": {
    "collapsed": true
   },
   "outputs": [],
   "source": [
    "import os\n",
    "import os.path\n",
    "import glob\n",
    "import csv\n",
    "import json\n",
    "from pprint import pprint\n",
    "import matplotlib.pyplot as plt"
   ]
  },
  {
   "cell_type": "code",
   "execution_count": 54,
   "metadata": {
    "collapsed": false
   },
   "outputs": [
    {
     "data": {
      "text/plain": [
       "'/Users/sonalichaudhari/Desktop/midterm/data/NYT_data/books/*.json'"
      ]
     },
     "execution_count": 54,
     "metadata": {},
     "output_type": "execute_result"
    }
   ],
   "source": [
    "#Retrieving the current system path\n",
    "directory = os.path.dirname(os.getcwd()) \n",
    "\n",
    "# Retreiving the required path and assigning it to variable 'reqpath'\n",
    "reqpath = directory + '/data/NYT_data/books/*.json'\n",
    "\n",
    "reqpath"
   ]
  },
  {
   "cell_type": "markdown",
   "metadata": {},
   "source": [
    "## Storing useful information of books in a CSV"
   ]
  },
  {
   "cell_type": "code",
   "execution_count": 53,
   "metadata": {
    "collapsed": false
   },
   "outputs": [],
   "source": [
    "with open('Book.csv', 'w') as csvfile:    # Creating a CSV file named 'Archive' in write mode as csvfile\n",
    "            fieldnames = ['author','rank','updated_date','publisher','description']  #Naming the title Row of the CSV\n",
    "            writer = csv.DictWriter(csvfile, fieldnames=fieldnames)\n",
    "            for f in glob.glob(reqpath):\n",
    "                with open (f,'r',encoding = 'ISO-8859-1') as json_file:\n",
    "                    c = json.load(json_file)\n",
    "                    b = c['results']['lists'][1]['books'] \n",
    "                    for i in b:\n",
    "                        author = i['author']\n",
    "                        rank = i['rank']\n",
    "                        updated_date = i['updated_date'][:10]\n",
    "                        publisher = i['publisher']\n",
    "                        description = i['description']                 \n",
    "                        writer.writerow({'author':author,'rank':rank,'updated_date':updated_date,'publisher':publisher,'description':description}) # Adding entry in the CSV"
   ]
  }
 ],
 "metadata": {
  "anaconda-cloud": {},
  "kernelspec": {
   "display_name": "Python [conda root]",
   "language": "python",
   "name": "conda-root-py"
  },
  "language_info": {
   "codemirror_mode": {
    "name": "ipython",
    "version": 3
   },
   "file_extension": ".py",
   "mimetype": "text/x-python",
   "name": "python",
   "nbconvert_exporter": "python",
   "pygments_lexer": "ipython3",
   "version": "3.5.2"
  }
 },
 "nbformat": 4,
 "nbformat_minor": 1
}
