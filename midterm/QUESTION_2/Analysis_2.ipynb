{
 "cells": [
  {
   "cell_type": "markdown",
   "metadata": {},
   "source": [
    "# QUESTION 2 - ANALYSIS 2"
   ]
  },
  {
   "cell_type": "markdown",
   "metadata": {},
   "source": [
    "## All Required Imports"
   ]
  },
  {
   "cell_type": "code",
   "execution_count": 50,
   "metadata": {
    "collapsed": true
   },
   "outputs": [],
   "source": [
    "import os\n",
    "import os.path\n",
    "import glob\n",
    "import csv\n",
    "import json\n",
    "from pprint import pprint\n",
    "import matplotlib.pyplot as plt"
   ]
  },
  {
   "cell_type": "code",
   "execution_count": 3,
   "metadata": {
    "collapsed": false
   },
   "outputs": [
    {
     "data": {
      "text/plain": [
       "'/Users/sonalichaudhari/Desktop/midterm/data/NYT_data/archive/*.json'"
      ]
     },
     "execution_count": 3,
     "metadata": {},
     "output_type": "execute_result"
    }
   ],
   "source": [
    "#Retrieving the current system path\n",
    "directory = os.path.dirname(os.getcwd()) \n",
    "\n",
    "# Retreiving the required path and assigning it to variable 'reqpath'\n",
    "reqpath = directory + '/data/NYT_data/archive/*.json'\n",
    "\n",
    "reqpath"
   ]
  },
  {
   "cell_type": "code",
   "execution_count": 68,
   "metadata": {
    "collapsed": false
   },
   "outputs": [],
   "source": [
    "date ={} # Dictionary for storing the date and counts of archive articles published on that day\n",
    "for f in glob.glob(reqpath):\n",
    "    with open (f,'r',encoding = 'ISO-8859-1') as json_file:   # Opening each each json file in the reqpath in read mode\n",
    "        a = json.load(json_file)  # loading the data of file in a\n",
    "        b = a['pub_date'][:10]  # Retrieving the part of date that is required\n",
    "        string = b[8:]          # retrieving only the day of the date\n",
    "        if string not in date:\n",
    "            date[string] = 1\n",
    "        else:\n",
    "            date[string]+=1\n",
    "        "
   ]
  },
  {
   "cell_type": "code",
   "execution_count": 67,
   "metadata": {
    "collapsed": false
   },
   "outputs": [],
   "source": [
    "with open('Archive.csv', 'w') as csvfile:    # Creating a CSV file named 'Archive' in write mode as csvfile\n",
    "            fieldnames = ['PUBLSIH DATE','NEWS DESK','DOCUMENT TYPE','WORDCOUNT','SOURCE']  #Naming the title Row of the CSV\n",
    "            writer = csv.DictWriter(csvfile, fieldnames=fieldnames)\n",
    "            for f in glob.glob(reqpath):\n",
    "                with open (f,'r',encoding = 'ISO-8859-1') as json_file:\n",
    "                    a = json.load(json_file)\n",
    "                    news_desk= a['news_desk']\n",
    "                    dtype = a['document_type']\n",
    "                    words = a['word_count']\n",
    "                    source = a['source']\n",
    "                    date1 = a['pub_date'][:10]\n",
    "                    writer.writerow({'PUBLSIH DATE':date1,'NEWS DESK':news_desk,'DOCUMENT TYPE':dtype,'WORDCOUNT':words,'SOURCE':source}) # Adding entry in the CSV"
   ]
  },
  {
   "cell_type": "code",
   "execution_count": 46,
   "metadata": {
    "collapsed": false
   },
   "outputs": [
    {
     "data": {
      "image/png": "[encoded data removed]",
      "text/plain": [
       "<matplotlib.figure.Figure at 0x10ff5eac8>"
      ]
     },
     "metadata": {},
     "output_type": "display_data"
    }
   ],
   "source": [
    "# Generationg the graph for the archive article as per the date of October Month for 2015\n",
    "plt.bar(range(len(date)), date.values())\n",
    "plt.xticks(range(len(date)), date.keys())\n",
    "\n",
    "plt.show()"
   ]
  }
 ],
 "metadata": {
  "anaconda-cloud": {},
  "kernelspec": {
   "display_name": "Python [conda root]",
   "language": "python",
   "name": "conda-root-py"
  },
  "language_info": {
   "codemirror_mode": {
    "name": "ipython",
    "version": 3
   },
   "file_extension": ".py",
   "mimetype": "text/x-python",
   "name": "python",
   "nbconvert_exporter": "python",
   "pygments_lexer": "ipython3",
   "version": "3.5.2"
  }
 },
 "nbformat": 4,
 "nbformat_minor": 1
}
