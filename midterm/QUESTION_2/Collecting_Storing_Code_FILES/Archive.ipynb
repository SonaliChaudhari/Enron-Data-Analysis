{
 "cells": [
  {
   "cell_type": "code",
   "execution_count": 1,
   "metadata": {
    "collapsed": false
   },
   "outputs": [],
   "source": [
    "import os\n",
    "import requests\n",
    "from pprint import pprint\n",
    "import json\n",
    "import time\n",
    "from datetime import datetime\n",
    "import glob"
   ]
  },
  {
   "cell_type": "code",
   "execution_count": 2,
   "metadata": {
    "collapsed": false
   },
   "outputs": [
    {
     "name": "stdout",
     "output_type": "stream",
     "text": [
      "/Users/sonalichaudhari/Desktop/midterm\n",
      "/Users/sonalichaudhari/Desktop/midterm/data/NYT_data\n"
     ]
    }
   ],
   "source": [
    "cur_path = os.path.dirname(os.getcwd())\n",
    "print(cur_path)\n",
    "path = cur_path + '/data/NYT_data'\n",
    "print (path)"
   ]
  },
  {
   "cell_type": "code",
   "execution_count": null,
   "metadata": {
    "collapsed": false
   },
   "outputs": [],
   "source": [
    "key1 = os.environ.get('API_KEY1')\n",
    "url = \"https://api.nytimes.com/svc/archive/v1/2015/10.json?api-key=\"+(key1)+\"&year=2015&month=10\""
   ]
  },
  {
   "cell_type": "code",
   "execution_count": null,
   "metadata": {
    "collapsed": false
   },
   "outputs": [],
   "source": [
    "i = 0\n",
    "response_data = []\n",
    "for i in range(100):\n",
    "    try:\n",
    "        response_data.append(requests.get(url).json())\n",
    "        i += 1\n",
    "        time.sleep(3)\n",
    "    except ValueError:\n",
    "        continue"
   ]
  },
  {
   "cell_type": "code",
   "execution_count": null,
   "metadata": {
    "collapsed": false
   },
   "outputs": [],
   "source": [
    "\n",
    "articles_path = path + '/archive/'\n",
    "for json_file in response_data[1][\"response\"][\"docs\"]:\n",
    "    with open(articles_path + 'archive'+ str(datetime.now()) +'.json', 'w') as outfile:\n",
    "        json.dump(json_file, outfile)\n"
   ]
  },
  {
   "cell_type": "code",
   "execution_count": null,
   "metadata": {
    "collapsed": false
   },
   "outputs": [],
   "source": [
    "import glob\n",
    "json_file_path = articles_path +'/*'\n",
    "lambda_file = lambda json_file_path : glob.glob(json_file_path)"
   ]
  },
  {
   "cell_type": "code",
   "execution_count": null,
   "metadata": {
    "collapsed": false
   },
   "outputs": [],
   "source": [
    "article_search_dict = {}\n",
    "for json_file in lambda_file(json_file_path):\n",
    "    with open(json_file) as json_data:\n",
    "        article_search_dict.update(json.load(json_data))\n",
    "    pprint(article_search_dict)\n"
   ]
  }
 ],
 "metadata": {
  "anaconda-cloud": {},
  "kernelspec": {
   "display_name": "Python [conda root]",
   "language": "python",
   "name": "conda-root-py"
  },
  "language_info": {
   "codemirror_mode": {
    "name": "ipython",
    "version": 3
   },
   "file_extension": ".py",
   "mimetype": "text/x-python",
   "name": "python",
   "nbconvert_exporter": "python",
   "pygments_lexer": "ipython3",
   "version": "3.5.2"
  }
 },
 "nbformat": 4,
 "nbformat_minor": 1
}
