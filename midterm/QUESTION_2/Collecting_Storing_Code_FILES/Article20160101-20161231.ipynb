{
 "cells": [
  {
   "cell_type": "code",
   "execution_count": 2,
   "metadata": {
    "collapsed": false
   },
   "outputs": [],
   "source": [
    "import os\n",
    "import time\n",
    "import requests\n",
    "from pprint import pprint\n",
    "import json\n",
    "from datetime import datetime\n",
    "import glob\n",
    "import string\n",
    "import datetime"
   ]
  },
  {
   "cell_type": "code",
   "execution_count": 3,
   "metadata": {
    "collapsed": false
   },
   "outputs": [
    {
     "data": {
      "text/plain": [
       "'/Users/sonalichaudhari/Desktop/midterm/QUESTION_2/data/NYT_data'"
      ]
     },
     "execution_count": 3,
     "metadata": {},
     "output_type": "execute_result"
    }
   ],
   "source": [
    "cur_path = os.path.dirname(os.getcwd())\n",
    "path = cur_path + '/data/NYT_data'\n",
    "path"
   ]
  },
  {
   "cell_type": "code",
   "execution_count": 4,
   "metadata": {
    "collapsed": false
   },
   "outputs": [
    {
     "name": "stdout",
     "output_type": "stream",
     "text": [
      "1cf9c7fc15ca422aa5be9c64e23f4138\n"
     ]
    }
   ],
   "source": [
    "key1 = os.environ.get('API_KEY1')\n",
    "print(key1)"
   ]
  },
  {
   "cell_type": "code",
   "execution_count": 8,
   "metadata": {
    "collapsed": true
   },
   "outputs": [],
   "source": [
    "url = \"https://api.nytimes.com/svc/search/v2/articlesearch.json?q=new+york+times&api-key=\"+(key1)+\"&begin_date=20160101&end_date=20161231\""
   ]
  },
  {
   "cell_type": "code",
   "execution_count": 11,
   "metadata": {
    "collapsed": false
   },
   "outputs": [],
   "source": [
    "i = 0\n",
    "response_data = []\n",
    "\n",
    "for i in range(50):\n",
    "    try:\n",
    "        response_data.append(requests.get(url).json())\n",
    "        i += 1\n",
    "        time.sleep(3)  \n",
    "    except ValueError:\n",
    "        continue"
   ]
  },
  {
   "cell_type": "code",
   "execution_count": null,
   "metadata": {
    "collapsed": true
   },
   "outputs": [],
   "source": [
    "path = path + '/Article/'\n",
    "if len(articles[\"response\"][\"docs\"]) >= 1:\n",
    "                        json_file_name = getJsonFileName(date, page, json_file_path)\n",
    "                        json_file = open(json_file_name, 'w')\n",
    "                        json_file.write(content)\n",
    "                        json_file.close()\n",
    "for json_file in response_data:\n",
    "    with open(articles_path + 'article_search_'+'.json', 'w') as outfile:\n",
    "        json.dump(json_file, outfile)\n",
    "        time.sleep(3)"
   ]
  },
  {
   "cell_type": "code",
   "execution_count": 69,
   "metadata": {
    "collapsed": true
   },
   "outputs": [],
   "source": [
    "import glob\n",
    "json_file_path = articles_path +'/*'\n",
    "lambda_file = lambda json_file_path : glob.glob(json_file_path)"
   ]
  },
  {
   "cell_type": "code",
   "execution_count": null,
   "metadata": {
    "collapsed": false
   },
   "outputs": [],
   "source": [
    "article_search_dict = {}\n",
    "for json_file in lambda_file(json_file_path):\n",
    "    with open(json_file) as json_data:\n",
    "        article_search_dict.update(json.load(json_data))\n",
    "    pprint(article_search_dict)"
   ]
  }
 ],
 "metadata": {
  "anaconda-cloud": {},
  "kernelspec": {
   "display_name": "Python [conda root]",
   "language": "python",
   "name": "conda-root-py"
  },
  "language_info": {
   "codemirror_mode": {
    "name": "ipython",
    "version": 3
   },
   "file_extension": ".py",
   "mimetype": "text/x-python",
   "name": "python",
   "nbconvert_exporter": "python",
   "pygments_lexer": "ipython3",
   "version": "3.5.2"
  }
 },
 "nbformat": 4,
 "nbformat_minor": 1
}
