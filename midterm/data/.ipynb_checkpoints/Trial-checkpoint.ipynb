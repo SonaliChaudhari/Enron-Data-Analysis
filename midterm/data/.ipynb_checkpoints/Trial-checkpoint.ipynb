{
 "cells": [
  {
   "cell_type": "code",
   "execution_count": 7,
   "metadata": {
    "collapsed": false
   },
   "outputs": [
    {
     "name": "stdout",
     "output_type": "stream",
     "text": [
      "https://api.nytimes.com/svc/search/v2/articlesearch.json?q=new+york+times&sort=newest&api-key=dd2e70434a5544bead52ebf4d53c5d2cbegin_date=20010911&end_date=20011231&sort=newest\n"
     ]
    }
   ],
   "source": [
    "\n",
    "import os\n",
    "import requests\n",
    "from pprint import pprint\n",
    "import json\n",
    "from datetime import datetime\n",
    "import glob\n",
    "#import urllib2\n",
    "\n",
    "\n",
    "cur_path = os.path.dirname(os.getcwd())\n",
    "path = cur_path + '/data/nyt_data'\n",
    "key1 = os.environ.get('API_TRIAL')\n",
    "link=url = \"https://api.nytimes.com/svc/search/v2/articlesearch.json?q=new+york+times&sort=newest&api-key=\"+(key1)+\"begin_date=20010911&end_date=20011231&sort=newest\"\n",
    "print(link)\n",
    "print(url)"
   ]
  },
  {
   "cell_type": "code",
   "execution_count": 13,
   "metadata": {
    "collapsed": true
   },
   "outputs": [],
   "source": [
    "i = 0\n",
    "response_data = []\n",
    "for i in range(100):\n",
    "    try:\n",
    "        response_data.append(requests.get(url).json())\n",
    "        i += 1\n",
    "    except ValueError:\n",
    "        continue"
   ]
  },
  {
   "cell_type": "code",
   "execution_count": 14,
   "metadata": {
    "collapsed": true
   },
   "outputs": [],
   "source": [
    "articles_path = path + '/article2011/'\n",
    "for json_file in response_data:\n",
    "    with open(articles_path + 'article2011_'+ str(datetime.now()) +'.json', 'w') as outfile:\n",
    "        json.dump(json_file, outfile)"
   ]
  },
  {
   "cell_type": "code",
   "execution_count": null,
   "metadata": {
    "collapsed": true
   },
   "outputs": [],
   "source": []
  },
  {
   "cell_type": "code",
   "execution_count": null,
   "metadata": {
    "collapsed": true
   },
   "outputs": [],
   "source": []
  },
  {
   "cell_type": "code",
   "execution_count": 15,
   "metadata": {
    "collapsed": true
   },
   "outputs": [],
   "source": [
    "import glob\n",
    "json_file_path = articles_path +'/*'\n",
    "lambda_file = lambda json_file_path : glob.glob(json_file_path)"
   ]
  },
  {
   "cell_type": "code",
   "execution_count": null,
   "metadata": {
    "collapsed": true
   },
   "outputs": [],
   "source": []
  },
  {
   "cell_type": "code",
   "execution_count": 16,
   "metadata": {
    "collapsed": false
   },
   "outputs": [
    {
     "name": "stdout",
     "output_type": "stream",
     "text": [
      "{'message': 'Invalid authentication credentials'}\n",
      "{'message': 'Invalid authentication credentials'}\n",
      "{'message': 'Invalid authentication credentials'}\n",
      "{'message': 'Invalid authentication credentials'}\n",
      "{'message': 'Invalid authentication credentials'}\n",
      "{'message': 'Invalid authentication credentials'}\n",
      "{'message': 'Invalid authentication credentials'}\n",
      "{'message': 'Invalid authentication credentials'}\n",
      "{'message': 'Invalid authentication credentials'}\n",
      "{'message': 'Invalid authentication credentials'}\n",
      "{'message': 'Invalid authentication credentials'}\n",
      "{'message': 'Invalid authentication credentials'}\n",
      "{'message': 'Invalid authentication credentials'}\n",
      "{'message': 'Invalid authentication credentials'}\n",
      "{'message': 'Invalid authentication credentials'}\n",
      "{'message': 'Invalid authentication credentials'}\n",
      "{'message': 'Invalid authentication credentials'}\n",
      "{'message': 'Invalid authentication credentials'}\n",
      "{'message': 'Invalid authentication credentials'}\n",
      "{'message': 'Invalid authentication credentials'}\n",
      "{'message': 'Invalid authentication credentials'}\n",
      "{'message': 'Invalid authentication credentials'}\n",
      "{'message': 'Invalid authentication credentials'}\n",
      "{'message': 'Invalid authentication credentials'}\n",
      "{'message': 'Invalid authentication credentials'}\n",
      "{'message': 'Invalid authentication credentials'}\n",
      "{'message': 'Invalid authentication credentials'}\n",
      "{'message': 'Invalid authentication credentials'}\n",
      "{'message': 'Invalid authentication credentials'}\n",
      "{'message': 'Invalid authentication credentials'}\n",
      "{'message': 'Invalid authentication credentials'}\n",
      "{'message': 'Invalid authentication credentials'}\n",
      "{'message': 'Invalid authentication credentials'}\n",
      "{'message': 'Invalid authentication credentials'}\n",
      "{'message': 'Invalid authentication credentials'}\n",
      "{'message': 'Invalid authentication credentials'}\n",
      "{'message': 'Invalid authentication credentials'}\n",
      "{'message': 'Invalid authentication credentials'}\n",
      "{'message': 'Invalid authentication credentials'}\n",
      "{'message': 'Invalid authentication credentials'}\n",
      "{'message': 'Invalid authentication credentials'}\n",
      "{'message': 'Invalid authentication credentials'}\n",
      "{'message': 'Invalid authentication credentials'}\n",
      "{'message': 'Invalid authentication credentials'}\n",
      "{'message': 'Invalid authentication credentials'}\n",
      "{'message': 'Invalid authentication credentials'}\n",
      "{'message': 'Invalid authentication credentials'}\n",
      "{'message': 'Invalid authentication credentials'}\n",
      "{'message': 'Invalid authentication credentials'}\n",
      "{'message': 'Invalid authentication credentials'}\n",
      "{'message': 'Invalid authentication credentials'}\n",
      "{'message': 'Invalid authentication credentials'}\n",
      "{'message': 'Invalid authentication credentials'}\n",
      "{'message': 'Invalid authentication credentials'}\n",
      "{'message': 'Invalid authentication credentials'}\n",
      "{'message': 'Invalid authentication credentials'}\n",
      "{'message': 'Invalid authentication credentials'}\n",
      "{'message': 'Invalid authentication credentials'}\n",
      "{'message': 'Invalid authentication credentials'}\n",
      "{'message': 'Invalid authentication credentials'}\n",
      "{'message': 'Invalid authentication credentials'}\n",
      "{'message': 'Invalid authentication credentials'}\n",
      "{'message': 'Invalid authentication credentials'}\n",
      "{'message': 'Invalid authentication credentials'}\n",
      "{'message': 'Invalid authentication credentials'}\n",
      "{'message': 'Invalid authentication credentials'}\n",
      "{'message': 'Invalid authentication credentials'}\n",
      "{'message': 'Invalid authentication credentials'}\n",
      "{'message': 'Invalid authentication credentials'}\n",
      "{'message': 'Invalid authentication credentials'}\n",
      "{'message': 'Invalid authentication credentials'}\n",
      "{'message': 'Invalid authentication credentials'}\n",
      "{'message': 'Invalid authentication credentials'}\n",
      "{'message': 'Invalid authentication credentials'}\n",
      "{'message': 'Invalid authentication credentials'}\n",
      "{'message': 'Invalid authentication credentials'}\n",
      "{'message': 'Invalid authentication credentials'}\n",
      "{'message': 'Invalid authentication credentials'}\n",
      "{'message': 'Invalid authentication credentials'}\n",
      "{'message': 'Invalid authentication credentials'}\n",
      "{'message': 'Invalid authentication credentials'}\n",
      "{'message': 'Invalid authentication credentials'}\n",
      "{'message': 'Invalid authentication credentials'}\n",
      "{'message': 'Invalid authentication credentials'}\n",
      "{'message': 'Invalid authentication credentials'}\n",
      "{'message': 'Invalid authentication credentials'}\n",
      "{'message': 'Invalid authentication credentials'}\n",
      "{'message': 'Invalid authentication credentials'}\n",
      "{'message': 'Invalid authentication credentials'}\n",
      "{'message': 'Invalid authentication credentials'}\n",
      "{'message': 'Invalid authentication credentials'}\n",
      "{'message': 'Invalid authentication credentials'}\n",
      "{'message': 'Invalid authentication credentials'}\n",
      "{'message': 'Invalid authentication credentials'}\n",
      "{'message': 'Invalid authentication credentials'}\n",
      "{'message': 'Invalid authentication credentials'}\n",
      "{'message': 'Invalid authentication credentials'}\n",
      "{'message': 'Invalid authentication credentials'}\n",
      "{'message': 'Invalid authentication credentials'}\n",
      "{'message': 'Invalid authentication credentials'}\n"
     ]
    }
   ],
   "source": [
    "article_search_dict = {}\n",
    "for json_file in lambda_file(json_file_path):\n",
    "    with open(json_file) as json_data:\n",
    "        article_search_dict.update(json.load(json_data))\n",
    "    pprint(article_search_dict)"
   ]
  },
  {
   "cell_type": "code",
   "execution_count": null,
   "metadata": {
    "collapsed": true
   },
   "outputs": [],
   "source": []
  }
 ],
 "metadata": {
  "anaconda-cloud": {},
  "kernelspec": {
   "display_name": "Python [conda root]",
   "language": "python",
   "name": "conda-root-py"
  },
  "language_info": {
   "codemirror_mode": {
    "name": "ipython",
    "version": 3
   },
   "file_extension": ".py",
   "mimetype": "text/x-python",
   "name": "python",
   "nbconvert_exporter": "python",
   "pygments_lexer": "ipython3",
   "version": "3.5.2"
  }
 },
 "nbformat": 4,
 "nbformat_minor": 1
}
