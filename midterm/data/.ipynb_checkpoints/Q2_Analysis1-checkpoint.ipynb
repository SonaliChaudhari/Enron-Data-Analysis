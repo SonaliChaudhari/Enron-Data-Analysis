{
 "cells": [
  {
   "cell_type": "markdown",
   "metadata": {},
   "source": [
    "# QUESTION 2 - ANALYSIS 1"
   ]
  },
  {
   "cell_type": "code",
   "execution_count": 1,
   "metadata": {
    "collapsed": true
   },
   "outputs": [],
   "source": [
    "import os\n",
    "import os.path\n",
    "import glob\n",
    "import json\n",
    "import shutil\n",
    "from pprint import pprint"
   ]
  },
  {
   "cell_type": "code",
   "execution_count": 17,
   "metadata": {
    "collapsed": false,
    "scrolled": true
   },
   "outputs": [],
   "source": [
    "d={}\n",
    "#Retrieving the current system path\n",
    "directory = os.path.dirname(os.getcwd()) \n",
    "\n",
    "# Retreiving the required path and assigning it to variable 'reqpath'\n",
    "reqpath = directory + '/data/nyt_data/article_search/*.json'"
   ]
  },
  {
   "cell_type": "code",
   "execution_count": 18,
   "metadata": {
    "collapsed": true
   },
   "outputs": [],
   "source": [
    "date = {}\n",
    "\n",
    "for f in glob.glob(reqpath):\n",
    "    with open (f,'r',encoding = 'ISO-8859-1') as json_file:\n",
    "        d = json.load(json_file)\n",
    "        for x in d['response']['docs']:\n",
    "            string = x['pub_date']\n",
    "            string = string[:-14]\n",
    "            if string not in date:\n",
    "                date[string] = 1\n",
    "            else:\n",
    "                date[string]+=1\n",
    "#string = string.rstrip(7)\n",
    "#print(string[:-14])"
   ]
  },
  {
   "cell_type": "code",
   "execution_count": 19,
   "metadata": {
    "collapsed": false
   },
   "outputs": [
    {
     "data": {
      "text/plain": [
       "{'2016-12-31': 380}"
      ]
     },
     "execution_count": 19,
     "metadata": {},
     "output_type": "execute_result"
    }
   ],
   "source": [
    "date"
   ]
  },
  {
   "cell_type": "code",
   "execution_count": 27,
   "metadata": {
    "collapsed": false
   },
   "outputs": [
    {
     "data": {
      "image/png": "[encoded data removed]",
      "text/plain": [
       "<matplotlib.figure.Figure at 0x11023f128>"
      ]
     },
     "metadata": {},
     "output_type": "display_data"
    }
   ],
   "source": [
    "import matplotlib.pyplot as plt\n",
    "\n",
    "#date = {'2016-12-31': 380}\n",
    "\n",
    "plt.bar(range(len(date)), date.values(), align='center')\n",
    "plt.xticks(range(len(date)), date.keys())\n",
    "\n",
    "plt.show()"
   ]
  },
  {
   "cell_type": "code",
   "execution_count": 20,
   "metadata": {
    "collapsed": false
   },
   "outputs": [],
   "source": [
    "#d['response']['docs']\n",
    "#d['response']['docs'][6]['keywords']"
   ]
  }
 ],
 "metadata": {
  "anaconda-cloud": {},
  "kernelspec": {
   "display_name": "Python [conda root]",
   "language": "python",
   "name": "conda-root-py"
  },
  "language_info": {
   "codemirror_mode": {
    "name": "ipython",
    "version": 3
   },
   "file_extension": ".py",
   "mimetype": "text/x-python",
   "name": "python",
   "nbconvert_exporter": "python",
   "pygments_lexer": "ipython3",
   "version": "3.5.2"
  }
 },
 "nbformat": 4,
 "nbformat_minor": 1
}
